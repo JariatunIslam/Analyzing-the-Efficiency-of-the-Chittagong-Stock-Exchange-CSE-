{
  "nbformat": 4,
  "nbformat_minor": 0,
  "metadata": {
    "colab": {
      "provenance": []
    },
    "kernelspec": {
      "name": "python3",
      "display_name": "Python 3"
    },
    "language_info": {
      "name": "python"
    }
  },
  "cells": [
    {
      "cell_type": "code",
      "execution_count": 130,
      "metadata": {
        "id": "vnzEMI9PN3Ne"
      },
      "outputs": [],
      "source": [
        "import pandas as pd\n",
        "import numpy as np\n",
        "from google.colab import files\n",
        "import matplotlib.pyplot as plt"
      ]
    },
    {
      "cell_type": "code",
      "source": [
        "full_df=pd.read_csv('/content/NAV_EPS.csv')\n",
        "full_df.head()"
      ],
      "metadata": {
        "colab": {
          "base_uri": "https://localhost:8080/",
          "height": 501
        },
        "id": "6328s6SiONix",
        "outputId": "83cd9297-e9f7-4ca0-d40e-af1c8feef554"
      },
      "execution_count": 118,
      "outputs": [
        {
          "output_type": "execute_result",
          "data": {
            "text/plain": [
              "                     Name  Performance Year  \\\n",
              "0  AAMRA NETWORKS LIMITED              2024   \n",
              "1  AAMRA NETWORKS LIMITED              2023   \n",
              "2  AAMRA NETWORKS LIMITED              2022   \n",
              "3  AAMRA NETWORKS LIMITED              2021   \n",
              "4  AAMRA NETWORKS LIMITED              2020   \n",
              "\n",
              "   Basic EPS Based On Continuous operations  \\\n",
              "0                                      2.46   \n",
              "1                                      3.64   \n",
              "2                                      1.85   \n",
              "3                                      2.14   \n",
              "4                                      3.19   \n",
              "\n",
              "   Basic EPS Based On Including Extra-Ordinary Income  \\\n",
              "0                                                  0    \n",
              "1                                                  0    \n",
              "2                                                  0    \n",
              "3                                                  0    \n",
              "4                                                  0    \n",
              "\n",
              "   Basic EPS (restated) Based On Continuous operations  \\\n",
              "0                                                0.0     \n",
              "1                                                0.0     \n",
              "2                                                0.0     \n",
              "3                                                0.0     \n",
              "4                                                0.0     \n",
              "\n",
              "   Basic EPS (restated) Based On Including Extra-Ordinary Income  \\\n",
              "0                                                  0               \n",
              "1                                                  0               \n",
              "2                                                  0               \n",
              "3                                                  0               \n",
              "4                                                  0               \n",
              "\n",
              "   Net Asset Value Per Share  Restated Net Asset Value Per Share  \\\n",
              "0                      37.01                                 0.0   \n",
              "1                      38.11                                 0.0   \n",
              "2                      36.70                                 0.0   \n",
              "3                      37.09                                 0.0   \n",
              "4                      35.95                                 0.0   \n",
              "\n",
              "   Net Profit After Tax Continuous operations (mn)  \\\n",
              "0                                           228.75   \n",
              "1                                           225.67   \n",
              "2                                           109.29   \n",
              "3                                           120.39   \n",
              "4                                           179.45   \n",
              "\n",
              "   Net Profit After Tax Including Extra-Ordinary Income (mn) % Dividend  \\\n",
              "0                                                  0               10%C   \n",
              "1                                                  0               11%C   \n",
              "2                                                  0           5%C, 5%B   \n",
              "3                                                  0           5%C, 5%B   \n",
              "4                                                  0               10%C   \n",
              "\n",
              "   % Dividend Yield  \n",
              "0              3.01  \n",
              "1              1.55  \n",
              "2              0.00  \n",
              "3              1.23  \n",
              "4              3.01  "
            ],
            "text/html": [
              "\n",
              "  <div id=\"df-717e1bfc-0ed6-4638-99de-3a75188dad04\" class=\"colab-df-container\">\n",
              "    <div>\n",
              "<style scoped>\n",
              "    .dataframe tbody tr th:only-of-type {\n",
              "        vertical-align: middle;\n",
              "    }\n",
              "\n",
              "    .dataframe tbody tr th {\n",
              "        vertical-align: top;\n",
              "    }\n",
              "\n",
              "    .dataframe thead th {\n",
              "        text-align: right;\n",
              "    }\n",
              "</style>\n",
              "<table border=\"1\" class=\"dataframe\">\n",
              "  <thead>\n",
              "    <tr style=\"text-align: right;\">\n",
              "      <th></th>\n",
              "      <th>Name</th>\n",
              "      <th>Performance Year</th>\n",
              "      <th>Basic EPS Based On Continuous operations</th>\n",
              "      <th>Basic EPS Based On Including Extra-Ordinary Income</th>\n",
              "      <th>Basic EPS (restated) Based On Continuous operations</th>\n",
              "      <th>Basic EPS (restated) Based On Including Extra-Ordinary Income</th>\n",
              "      <th>Net Asset Value Per Share</th>\n",
              "      <th>Restated Net Asset Value Per Share</th>\n",
              "      <th>Net Profit After Tax Continuous operations (mn)</th>\n",
              "      <th>Net Profit After Tax Including Extra-Ordinary Income (mn)</th>\n",
              "      <th>% Dividend</th>\n",
              "      <th>% Dividend Yield</th>\n",
              "    </tr>\n",
              "  </thead>\n",
              "  <tbody>\n",
              "    <tr>\n",
              "      <th>0</th>\n",
              "      <td>AAMRA NETWORKS LIMITED</td>\n",
              "      <td>2024</td>\n",
              "      <td>2.46</td>\n",
              "      <td>0</td>\n",
              "      <td>0.0</td>\n",
              "      <td>0</td>\n",
              "      <td>37.01</td>\n",
              "      <td>0.0</td>\n",
              "      <td>228.75</td>\n",
              "      <td>0</td>\n",
              "      <td>10%C</td>\n",
              "      <td>3.01</td>\n",
              "    </tr>\n",
              "    <tr>\n",
              "      <th>1</th>\n",
              "      <td>AAMRA NETWORKS LIMITED</td>\n",
              "      <td>2023</td>\n",
              "      <td>3.64</td>\n",
              "      <td>0</td>\n",
              "      <td>0.0</td>\n",
              "      <td>0</td>\n",
              "      <td>38.11</td>\n",
              "      <td>0.0</td>\n",
              "      <td>225.67</td>\n",
              "      <td>0</td>\n",
              "      <td>11%C</td>\n",
              "      <td>1.55</td>\n",
              "    </tr>\n",
              "    <tr>\n",
              "      <th>2</th>\n",
              "      <td>AAMRA NETWORKS LIMITED</td>\n",
              "      <td>2022</td>\n",
              "      <td>1.85</td>\n",
              "      <td>0</td>\n",
              "      <td>0.0</td>\n",
              "      <td>0</td>\n",
              "      <td>36.70</td>\n",
              "      <td>0.0</td>\n",
              "      <td>109.29</td>\n",
              "      <td>0</td>\n",
              "      <td>5%C, 5%B</td>\n",
              "      <td>0.00</td>\n",
              "    </tr>\n",
              "    <tr>\n",
              "      <th>3</th>\n",
              "      <td>AAMRA NETWORKS LIMITED</td>\n",
              "      <td>2021</td>\n",
              "      <td>2.14</td>\n",
              "      <td>0</td>\n",
              "      <td>0.0</td>\n",
              "      <td>0</td>\n",
              "      <td>37.09</td>\n",
              "      <td>0.0</td>\n",
              "      <td>120.39</td>\n",
              "      <td>0</td>\n",
              "      <td>5%C, 5%B</td>\n",
              "      <td>1.23</td>\n",
              "    </tr>\n",
              "    <tr>\n",
              "      <th>4</th>\n",
              "      <td>AAMRA NETWORKS LIMITED</td>\n",
              "      <td>2020</td>\n",
              "      <td>3.19</td>\n",
              "      <td>0</td>\n",
              "      <td>0.0</td>\n",
              "      <td>0</td>\n",
              "      <td>35.95</td>\n",
              "      <td>0.0</td>\n",
              "      <td>179.45</td>\n",
              "      <td>0</td>\n",
              "      <td>10%C</td>\n",
              "      <td>3.01</td>\n",
              "    </tr>\n",
              "  </tbody>\n",
              "</table>\n",
              "</div>\n",
              "    <div class=\"colab-df-buttons\">\n",
              "\n",
              "  <div class=\"colab-df-container\">\n",
              "    <button class=\"colab-df-convert\" onclick=\"convertToInteractive('df-717e1bfc-0ed6-4638-99de-3a75188dad04')\"\n",
              "            title=\"Convert this dataframe to an interactive table.\"\n",
              "            style=\"display:none;\">\n",
              "\n",
              "  <svg xmlns=\"http://www.w3.org/2000/svg\" height=\"24px\" viewBox=\"0 -960 960 960\">\n",
              "    <path d=\"M120-120v-720h720v720H120Zm60-500h600v-160H180v160Zm220 220h160v-160H400v160Zm0 220h160v-160H400v160ZM180-400h160v-160H180v160Zm440 0h160v-160H620v160ZM180-180h160v-160H180v160Zm440 0h160v-160H620v160Z\"/>\n",
              "  </svg>\n",
              "    </button>\n",
              "\n",
              "  <style>\n",
              "    .colab-df-container {\n",
              "      display:flex;\n",
              "      gap: 12px;\n",
              "    }\n",
              "\n",
              "    .colab-df-convert {\n",
              "      background-color: #E8F0FE;\n",
              "      border: none;\n",
              "      border-radius: 50%;\n",
              "      cursor: pointer;\n",
              "      display: none;\n",
              "      fill: #1967D2;\n",
              "      height: 32px;\n",
              "      padding: 0 0 0 0;\n",
              "      width: 32px;\n",
              "    }\n",
              "\n",
              "    .colab-df-convert:hover {\n",
              "      background-color: #E2EBFA;\n",
              "      box-shadow: 0px 1px 2px rgba(60, 64, 67, 0.3), 0px 1px 3px 1px rgba(60, 64, 67, 0.15);\n",
              "      fill: #174EA6;\n",
              "    }\n",
              "\n",
              "    .colab-df-buttons div {\n",
              "      margin-bottom: 4px;\n",
              "    }\n",
              "\n",
              "    [theme=dark] .colab-df-convert {\n",
              "      background-color: #3B4455;\n",
              "      fill: #D2E3FC;\n",
              "    }\n",
              "\n",
              "    [theme=dark] .colab-df-convert:hover {\n",
              "      background-color: #434B5C;\n",
              "      box-shadow: 0px 1px 3px 1px rgba(0, 0, 0, 0.15);\n",
              "      filter: drop-shadow(0px 1px 2px rgba(0, 0, 0, 0.3));\n",
              "      fill: #FFFFFF;\n",
              "    }\n",
              "  </style>\n",
              "\n",
              "    <script>\n",
              "      const buttonEl =\n",
              "        document.querySelector('#df-717e1bfc-0ed6-4638-99de-3a75188dad04 button.colab-df-convert');\n",
              "      buttonEl.style.display =\n",
              "        google.colab.kernel.accessAllowed ? 'block' : 'none';\n",
              "\n",
              "      async function convertToInteractive(key) {\n",
              "        const element = document.querySelector('#df-717e1bfc-0ed6-4638-99de-3a75188dad04');\n",
              "        const dataTable =\n",
              "          await google.colab.kernel.invokeFunction('convertToInteractive',\n",
              "                                                    [key], {});\n",
              "        if (!dataTable) return;\n",
              "\n",
              "        const docLinkHtml = 'Like what you see? Visit the ' +\n",
              "          '<a target=\"_blank\" href=https://colab.research.google.com/notebooks/data_table.ipynb>data table notebook</a>'\n",
              "          + ' to learn more about interactive tables.';\n",
              "        element.innerHTML = '';\n",
              "        dataTable['output_type'] = 'display_data';\n",
              "        await google.colab.output.renderOutput(dataTable, element);\n",
              "        const docLink = document.createElement('div');\n",
              "        docLink.innerHTML = docLinkHtml;\n",
              "        element.appendChild(docLink);\n",
              "      }\n",
              "    </script>\n",
              "  </div>\n",
              "\n",
              "\n",
              "    <div id=\"df-a4e22d0d-efd0-41b0-a9e1-fd9d9d985c65\">\n",
              "      <button class=\"colab-df-quickchart\" onclick=\"quickchart('df-a4e22d0d-efd0-41b0-a9e1-fd9d9d985c65')\"\n",
              "                title=\"Suggest charts\"\n",
              "                style=\"display:none;\">\n",
              "\n",
              "<svg xmlns=\"http://www.w3.org/2000/svg\" height=\"24px\"viewBox=\"0 0 24 24\"\n",
              "     width=\"24px\">\n",
              "    <g>\n",
              "        <path d=\"M19 3H5c-1.1 0-2 .9-2 2v14c0 1.1.9 2 2 2h14c1.1 0 2-.9 2-2V5c0-1.1-.9-2-2-2zM9 17H7v-7h2v7zm4 0h-2V7h2v10zm4 0h-2v-4h2v4z\"/>\n",
              "    </g>\n",
              "</svg>\n",
              "      </button>\n",
              "\n",
              "<style>\n",
              "  .colab-df-quickchart {\n",
              "      --bg-color: #E8F0FE;\n",
              "      --fill-color: #1967D2;\n",
              "      --hover-bg-color: #E2EBFA;\n",
              "      --hover-fill-color: #174EA6;\n",
              "      --disabled-fill-color: #AAA;\n",
              "      --disabled-bg-color: #DDD;\n",
              "  }\n",
              "\n",
              "  [theme=dark] .colab-df-quickchart {\n",
              "      --bg-color: #3B4455;\n",
              "      --fill-color: #D2E3FC;\n",
              "      --hover-bg-color: #434B5C;\n",
              "      --hover-fill-color: #FFFFFF;\n",
              "      --disabled-bg-color: #3B4455;\n",
              "      --disabled-fill-color: #666;\n",
              "  }\n",
              "\n",
              "  .colab-df-quickchart {\n",
              "    background-color: var(--bg-color);\n",
              "    border: none;\n",
              "    border-radius: 50%;\n",
              "    cursor: pointer;\n",
              "    display: none;\n",
              "    fill: var(--fill-color);\n",
              "    height: 32px;\n",
              "    padding: 0;\n",
              "    width: 32px;\n",
              "  }\n",
              "\n",
              "  .colab-df-quickchart:hover {\n",
              "    background-color: var(--hover-bg-color);\n",
              "    box-shadow: 0 1px 2px rgba(60, 64, 67, 0.3), 0 1px 3px 1px rgba(60, 64, 67, 0.15);\n",
              "    fill: var(--button-hover-fill-color);\n",
              "  }\n",
              "\n",
              "  .colab-df-quickchart-complete:disabled,\n",
              "  .colab-df-quickchart-complete:disabled:hover {\n",
              "    background-color: var(--disabled-bg-color);\n",
              "    fill: var(--disabled-fill-color);\n",
              "    box-shadow: none;\n",
              "  }\n",
              "\n",
              "  .colab-df-spinner {\n",
              "    border: 2px solid var(--fill-color);\n",
              "    border-color: transparent;\n",
              "    border-bottom-color: var(--fill-color);\n",
              "    animation:\n",
              "      spin 1s steps(1) infinite;\n",
              "  }\n",
              "\n",
              "  @keyframes spin {\n",
              "    0% {\n",
              "      border-color: transparent;\n",
              "      border-bottom-color: var(--fill-color);\n",
              "      border-left-color: var(--fill-color);\n",
              "    }\n",
              "    20% {\n",
              "      border-color: transparent;\n",
              "      border-left-color: var(--fill-color);\n",
              "      border-top-color: var(--fill-color);\n",
              "    }\n",
              "    30% {\n",
              "      border-color: transparent;\n",
              "      border-left-color: var(--fill-color);\n",
              "      border-top-color: var(--fill-color);\n",
              "      border-right-color: var(--fill-color);\n",
              "    }\n",
              "    40% {\n",
              "      border-color: transparent;\n",
              "      border-right-color: var(--fill-color);\n",
              "      border-top-color: var(--fill-color);\n",
              "    }\n",
              "    60% {\n",
              "      border-color: transparent;\n",
              "      border-right-color: var(--fill-color);\n",
              "    }\n",
              "    80% {\n",
              "      border-color: transparent;\n",
              "      border-right-color: var(--fill-color);\n",
              "      border-bottom-color: var(--fill-color);\n",
              "    }\n",
              "    90% {\n",
              "      border-color: transparent;\n",
              "      border-bottom-color: var(--fill-color);\n",
              "    }\n",
              "  }\n",
              "</style>\n",
              "\n",
              "      <script>\n",
              "        async function quickchart(key) {\n",
              "          const quickchartButtonEl =\n",
              "            document.querySelector('#' + key + ' button');\n",
              "          quickchartButtonEl.disabled = true;  // To prevent multiple clicks.\n",
              "          quickchartButtonEl.classList.add('colab-df-spinner');\n",
              "          try {\n",
              "            const charts = await google.colab.kernel.invokeFunction(\n",
              "                'suggestCharts', [key], {});\n",
              "          } catch (error) {\n",
              "            console.error('Error during call to suggestCharts:', error);\n",
              "          }\n",
              "          quickchartButtonEl.classList.remove('colab-df-spinner');\n",
              "          quickchartButtonEl.classList.add('colab-df-quickchart-complete');\n",
              "        }\n",
              "        (() => {\n",
              "          let quickchartButtonEl =\n",
              "            document.querySelector('#df-a4e22d0d-efd0-41b0-a9e1-fd9d9d985c65 button');\n",
              "          quickchartButtonEl.style.display =\n",
              "            google.colab.kernel.accessAllowed ? 'block' : 'none';\n",
              "        })();\n",
              "      </script>\n",
              "    </div>\n",
              "\n",
              "    </div>\n",
              "  </div>\n"
            ],
            "application/vnd.google.colaboratory.intrinsic+json": {
              "type": "dataframe",
              "variable_name": "full_df",
              "summary": "{\n  \"name\": \"full_df\",\n  \"rows\": 1789,\n  \"fields\": [\n    {\n      \"column\": \"Name\",\n      \"properties\": {\n        \"dtype\": \"category\",\n        \"num_unique_values\": 367,\n        \"samples\": [\n          \"LR GLOBAL BANGLADESH MF ONE\",\n          \"ASIATIC LABORATORIES LIMITED\",\n          \"ALIF INDUSTRIES LIMITED\"\n        ],\n        \"semantic_type\": \"\",\n        \"description\": \"\"\n      }\n    },\n    {\n      \"column\": \"Performance Year\",\n      \"properties\": {\n        \"dtype\": \"number\",\n        \"std\": 1,\n        \"min\": 2011,\n        \"max\": 2024,\n        \"num_unique_values\": 14,\n        \"samples\": [\n          2015,\n          2013,\n          2024\n        ],\n        \"semantic_type\": \"\",\n        \"description\": \"\"\n      }\n    },\n    {\n      \"column\": \"Basic EPS Based On Continuous operations\",\n      \"properties\": {\n        \"dtype\": \"number\",\n        \"std\": 16.729934933043346,\n        \"min\": -96.94,\n        \"max\": 421.94,\n        \"num_unique_values\": 873,\n        \"samples\": [\n          3.87,\n          -0.51,\n          -0.29\n        ],\n        \"semantic_type\": \"\",\n        \"description\": \"\"\n      }\n    },\n    {\n      \"column\": \"Basic EPS Based On Including Extra-Ordinary Income\",\n      \"properties\": {\n        \"dtype\": \"number\",\n        \"std\": 0,\n        \"min\": 0,\n        \"max\": 0,\n        \"num_unique_values\": 1,\n        \"samples\": [\n          0\n        ],\n        \"semantic_type\": \"\",\n        \"description\": \"\"\n      }\n    },\n    {\n      \"column\": \"Basic EPS (restated) Based On Continuous operations\",\n      \"properties\": {\n        \"dtype\": \"number\",\n        \"std\": 0.7548095312849138,\n        \"min\": 0.0,\n        \"max\": 23.98,\n        \"num_unique_values\": 38,\n        \"samples\": [\n          0.73\n        ],\n        \"semantic_type\": \"\",\n        \"description\": \"\"\n      }\n    },\n    {\n      \"column\": \"Basic EPS (restated) Based On Including Extra-Ordinary Income\",\n      \"properties\": {\n        \"dtype\": \"number\",\n        \"std\": 0,\n        \"min\": 0,\n        \"max\": 0,\n        \"num_unique_values\": 1,\n        \"samples\": [\n          0\n        ],\n        \"semantic_type\": \"\",\n        \"description\": \"\"\n      }\n    },\n    {\n      \"column\": \"Net Asset Value Per Share\",\n      \"properties\": {\n        \"dtype\": \"number\",\n        \"std\": 88.61682122758107,\n        \"min\": -212.32,\n        \"max\": 1593.47,\n        \"num_unique_values\": 1455,\n        \"samples\": [\n          51.83\n        ],\n        \"semantic_type\": \"\",\n        \"description\": \"\"\n      }\n    },\n    {\n      \"column\": \"Restated Net Asset Value Per Share\",\n      \"properties\": {\n        \"dtype\": \"number\",\n        \"std\": 7.307347891444305,\n        \"min\": 0.0,\n        \"max\": 261.92,\n        \"num_unique_values\": 38,\n        \"samples\": [\n          11.78\n        ],\n        \"semantic_type\": \"\",\n        \"description\": \"\"\n      }\n    },\n    {\n      \"column\": \"Net Profit After Tax Continuous operations (mn)\",\n      \"properties\": {\n        \"dtype\": \"number\",\n        \"std\": 2719.4077101482603,\n        \"min\": -32608.6,\n        \"max\": 37187.04,\n        \"num_unique_values\": 1703,\n        \"samples\": [\n          2326.78\n        ],\n        \"semantic_type\": \"\",\n        \"description\": \"\"\n      }\n    },\n    {\n      \"column\": \"Net Profit After Tax Including Extra-Ordinary Income (mn)\",\n      \"properties\": {\n        \"dtype\": \"number\",\n        \"std\": 0,\n        \"min\": 0,\n        \"max\": 0,\n        \"num_unique_values\": 1,\n        \"samples\": [\n          0\n        ],\n        \"semantic_type\": \"\",\n        \"description\": \"\"\n      }\n    },\n    {\n      \"column\": \"% Dividend\",\n      \"properties\": {\n        \"dtype\": \"category\",\n        \"num_unique_values\": 242,\n        \"samples\": [\n          \"2%C,2%B\"\n        ],\n        \"semantic_type\": \"\",\n        \"description\": \"\"\n      }\n    },\n    {\n      \"column\": \"% Dividend Yield\",\n      \"properties\": {\n        \"dtype\": \"number\",\n        \"std\": 2.9893256895433002,\n        \"min\": 0.0,\n        \"max\": 45.21,\n        \"num_unique_values\": 613,\n        \"samples\": [\n          6.59\n        ],\n        \"semantic_type\": \"\",\n        \"description\": \"\"\n      }\n    }\n  ]\n}"
            }
          },
          "metadata": {},
          "execution_count": 118
        }
      ]
    },
    {
      "cell_type": "code",
      "source": [
        "full_df.dtypes\n",
        "\n"
      ],
      "metadata": {
        "colab": {
          "base_uri": "https://localhost:8080/",
          "height": 460
        },
        "id": "rD-_790KOfvk",
        "outputId": "2e650ec4-f87b-41e6-d87b-1e9b45b850df"
      },
      "execution_count": 119,
      "outputs": [
        {
          "output_type": "execute_result",
          "data": {
            "text/plain": [
              "Name                                                              object\n",
              "Performance Year                                                   int64\n",
              "Basic EPS Based On Continuous operations                         float64\n",
              "Basic EPS Based On Including Extra-Ordinary Income                 int64\n",
              "Basic EPS (restated) Based On Continuous operations              float64\n",
              "Basic EPS (restated) Based On Including Extra-Ordinary Income      int64\n",
              "Net Asset Value Per Share                                        float64\n",
              "Restated Net Asset Value Per Share                               float64\n",
              "Net Profit After Tax Continuous operations (mn)                  float64\n",
              "Net Profit After Tax Including Extra-Ordinary Income (mn)          int64\n",
              "% Dividend                                                        object\n",
              "% Dividend Yield                                                 float64\n",
              "dtype: object"
            ],
            "text/html": [
              "<div>\n",
              "<style scoped>\n",
              "    .dataframe tbody tr th:only-of-type {\n",
              "        vertical-align: middle;\n",
              "    }\n",
              "\n",
              "    .dataframe tbody tr th {\n",
              "        vertical-align: top;\n",
              "    }\n",
              "\n",
              "    .dataframe thead th {\n",
              "        text-align: right;\n",
              "    }\n",
              "</style>\n",
              "<table border=\"1\" class=\"dataframe\">\n",
              "  <thead>\n",
              "    <tr style=\"text-align: right;\">\n",
              "      <th></th>\n",
              "      <th>0</th>\n",
              "    </tr>\n",
              "  </thead>\n",
              "  <tbody>\n",
              "    <tr>\n",
              "      <th>Name</th>\n",
              "      <td>object</td>\n",
              "    </tr>\n",
              "    <tr>\n",
              "      <th>Performance Year</th>\n",
              "      <td>int64</td>\n",
              "    </tr>\n",
              "    <tr>\n",
              "      <th>Basic EPS Based On Continuous operations</th>\n",
              "      <td>float64</td>\n",
              "    </tr>\n",
              "    <tr>\n",
              "      <th>Basic EPS Based On Including Extra-Ordinary Income</th>\n",
              "      <td>int64</td>\n",
              "    </tr>\n",
              "    <tr>\n",
              "      <th>Basic EPS (restated) Based On Continuous operations</th>\n",
              "      <td>float64</td>\n",
              "    </tr>\n",
              "    <tr>\n",
              "      <th>Basic EPS (restated) Based On Including Extra-Ordinary Income</th>\n",
              "      <td>int64</td>\n",
              "    </tr>\n",
              "    <tr>\n",
              "      <th>Net Asset Value Per Share</th>\n",
              "      <td>float64</td>\n",
              "    </tr>\n",
              "    <tr>\n",
              "      <th>Restated Net Asset Value Per Share</th>\n",
              "      <td>float64</td>\n",
              "    </tr>\n",
              "    <tr>\n",
              "      <th>Net Profit After Tax Continuous operations (mn)</th>\n",
              "      <td>float64</td>\n",
              "    </tr>\n",
              "    <tr>\n",
              "      <th>Net Profit After Tax Including Extra-Ordinary Income (mn)</th>\n",
              "      <td>int64</td>\n",
              "    </tr>\n",
              "    <tr>\n",
              "      <th>% Dividend</th>\n",
              "      <td>object</td>\n",
              "    </tr>\n",
              "    <tr>\n",
              "      <th>% Dividend Yield</th>\n",
              "      <td>float64</td>\n",
              "    </tr>\n",
              "  </tbody>\n",
              "</table>\n",
              "</div><br><label><b>dtype:</b> object</label>"
            ]
          },
          "metadata": {},
          "execution_count": 119
        }
      ]
    },
    {
      "cell_type": "code",
      "source": [
        "full_df.shape\n"
      ],
      "metadata": {
        "colab": {
          "base_uri": "https://localhost:8080/"
        },
        "id": "A0ejqOdOQxkI",
        "outputId": "e682369d-d7fd-42ae-a9e6-c75867c5183d"
      },
      "execution_count": 120,
      "outputs": [
        {
          "output_type": "execute_result",
          "data": {
            "text/plain": [
              "(1789, 12)"
            ]
          },
          "metadata": {},
          "execution_count": 120
        }
      ]
    },
    {
      "cell_type": "code",
      "source": [
        "df=full_df.copy()"
      ],
      "metadata": {
        "id": "BBBTFJhAc2Bw"
      },
      "execution_count": 121,
      "outputs": []
    },
    {
      "cell_type": "code",
      "source": [
        "#extracting cash and bonus dividend\n",
        "df['% Cash Dividend'] = (df['% Dividend'].astype(str).str.extract(r'(\\d+\\.?\\d*)%C')[0].fillna(0) )\n",
        "df['% Cash Dividend'] = pd.to_numeric(df['% Cash Dividend'])\n",
        "\n",
        "df['% Bonus Dividend'] = (df['% Dividend'].astype(str).str.extract(r'(\\d+\\.?\\d*)%B')[0].fillna(0) )\n",
        "df['% Bonus Dividend'] = pd.to_numeric(df['% Bonus Dividend'])\n",
        "\n",
        "print(df[['% Dividend', '% Cash Dividend','% Bonus Dividend']].head())"
      ],
      "metadata": {
        "colab": {
          "base_uri": "https://localhost:8080/"
        },
        "id": "YQyhkqibRkym",
        "outputId": "3efbd2dc-8e21-4ab3-f0b0-3ea5e70aae40"
      },
      "execution_count": 122,
      "outputs": [
        {
          "output_type": "stream",
          "name": "stdout",
          "text": [
            "  % Dividend  % Cash Dividend  % Bonus Dividend\n",
            "0       10%C             10.0               0.0\n",
            "1       11%C             11.0               0.0\n",
            "2   5%C, 5%B              5.0               5.0\n",
            "3   5%C, 5%B              5.0               5.0\n",
            "4       10%C             10.0               0.0\n"
          ]
        }
      ]
    },
    {
      "cell_type": "code",
      "source": [
        "#cleaning year wise, Dividend Yield and Cash Dividend\n",
        "\n",
        "# companies with all 5 years\n",
        "performance_year = [2020, 2021, 2022, 2023, 2024]\n",
        "df = df[df['Performance Year'].isin(performance_year)]\n",
        "valid_years = df.groupby(\"Name\")[\"Performance Year\"].nunique()\n",
        "valid_years = valid_years[valid_years == len(performance_year)].index\n",
        "\n",
        "# dividend yield > 0\n",
        "valid_div_yield = df.groupby(\"Name\")[\"% Dividend Yield\"].min()\n",
        "valid_div_yield = valid_div_yield[valid_div_yield > 0].index\n",
        "\n",
        "# cash dividend > 0\n",
        "valid_cash_div = df.groupby(\"Name\")[\"% Cash Dividend\"].min()\n",
        "valid_cash_div = valid_cash_div[valid_cash_div > 0].index\n",
        "\n",
        "valid_companies = set(valid_years) & set(valid_div_yield) & set(valid_cash_div)\n",
        "\n",
        "df = df[df[\"Name\"].isin(valid_companies)].reset_index(drop=True)\n",
        "\n",
        "print(\"Remaining companies:\", len(valid_companies))\n",
        "print(\"Remaining rows:\", len(df))\n"
      ],
      "metadata": {
        "colab": {
          "base_uri": "https://localhost:8080/"
        },
        "id": "SpcqLgxxOiZZ",
        "outputId": "896ff7e1-1ca5-4a86-c9e5-e2eb8caf9fcf"
      },
      "execution_count": 123,
      "outputs": [
        {
          "output_type": "stream",
          "name": "stdout",
          "text": [
            "Remaining companies: 128\n",
            "Remaining rows: 640\n"
          ]
        }
      ]
    },
    {
      "cell_type": "code",
      "source": [
        "#actual eps\n",
        "df['EPS']=df['Basic EPS Based On Continuous operations']- (df['Basic EPS Based On Continuous operations']*(df['% Bonus Dividend']/100))\n",
        "#actual nav\n",
        "df['NAV'] = df['Net Asset Value Per Share']- (df['Net Asset Value Per Share']*(df['% Bonus Dividend']/100))\n",
        "\n",
        "print(df[['% Bonus Dividend','Net Asset Value Per Share','NAV', 'Basic EPS Based On Continuous operations','EPS']].head())"
      ],
      "metadata": {
        "colab": {
          "base_uri": "https://localhost:8080/"
        },
        "id": "jJsbUHVbS5Mm",
        "outputId": "a7963d37-5f5a-442e-fe1c-349e831a3155"
      },
      "execution_count": 124,
      "outputs": [
        {
          "output_type": "stream",
          "name": "stdout",
          "text": [
            "   % Bonus Dividend  Net Asset Value Per Share      NAV  \\\n",
            "0               0.0                      21.73  21.7300   \n",
            "1               0.0                      22.85  22.8500   \n",
            "2               6.0                      24.09  22.6446   \n",
            "3               5.0                      23.93  22.7335   \n",
            "4               0.0                      23.48  23.4800   \n",
            "\n",
            "   Basic EPS Based On Continuous operations     EPS  \n",
            "0                                     -0.12 -0.1200  \n",
            "1                                      0.70  0.7000  \n",
            "2                                      1.78  1.6732  \n",
            "3                                      1.45  1.3775  \n",
            "4                                      1.46  1.4600  \n"
          ]
        }
      ]
    },
    {
      "cell_type": "code",
      "source": [
        "#all shares face value is 10, and the cash dividend is calculated based on 10\n",
        "#cash dividend= 10 * given%\n",
        "#price=(cash dividend/Dividend Yeild)*100\n",
        "\n",
        "df['Price']=((((10*(df['% Cash Dividend']/100) )) / df['% Dividend Yield'])*100)*(1-df['% Bonus Dividend']/100)\n",
        "print(df[['% Cash Dividend','% Dividend Yield', 'Price',]].head())"
      ],
      "metadata": {
        "colab": {
          "base_uri": "https://localhost:8080/"
        },
        "id": "tKXNN7MiViWE",
        "outputId": "7e0eacf5-a1ed-4ce3-8279-5b9c88cb83ba"
      },
      "execution_count": 125,
      "outputs": [
        {
          "output_type": "stream",
          "name": "stdout",
          "text": [
            "   % Cash Dividend  % Dividend Yield      Price\n",
            "0              1.0              0.46  21.739130\n",
            "1             10.0              2.72  36.764706\n",
            "2              6.0              1.82  30.989011\n",
            "3              5.0              1.91  24.869110\n",
            "4             10.0              4.35  22.988506\n"
          ]
        }
      ]
    },
    {
      "cell_type": "code",
      "source": [
        "# correlation of Price vs EPS per company\n",
        "df['Price Vs EPS Correlation'] = (\n",
        "    df.groupby(\"Name\")\n",
        "      .apply(lambda g: g['Price'].corr(g['EPS']))\n",
        "      .reindex(df['Name']).values\n",
        ")\n",
        "\n",
        "# correlation of Price vs NAV per company\n",
        "df['Price Vs NAV Correlation'] = (\n",
        "    df.groupby(\"Name\")\n",
        "      .apply(lambda g: g['Price'].corr(g['NAV']))\n",
        "      .reindex(df['Name']).values\n",
        ")\n",
        "\n",
        "print(df[['Name','Price','EPS','NAV',\n",
        "          'Price Vs EPS Correlation',\n",
        "          'Price Vs NAV Correlation']].head())\n"
      ],
      "metadata": {
        "colab": {
          "base_uri": "https://localhost:8080/"
        },
        "id": "LnxHE48OabdU",
        "outputId": "3a5de656-dc3d-4877-9358-1c289e8f5805"
      },
      "execution_count": 126,
      "outputs": [
        {
          "output_type": "stream",
          "name": "stdout",
          "text": [
            "                      Name      Price     EPS      NAV  \\\n",
            "0  AAMRA TECHNOLOGIES LTD.  21.739130 -0.1200  21.7300   \n",
            "1  AAMRA TECHNOLOGIES LTD.  36.764706  0.7000  22.8500   \n",
            "2  AAMRA TECHNOLOGIES LTD.  30.989011  1.6732  22.6446   \n",
            "3  AAMRA TECHNOLOGIES LTD.  24.869110  1.3775  22.7335   \n",
            "4  AAMRA TECHNOLOGIES LTD.  22.988506  1.4600  23.4800   \n",
            "\n",
            "   Price Vs EPS Correlation  Price Vs NAV Correlation  \n",
            "0                  0.160135                  0.200989  \n",
            "1                  0.160135                  0.200989  \n",
            "2                  0.160135                  0.200989  \n",
            "3                  0.160135                  0.200989  \n",
            "4                  0.160135                  0.200989  \n"
          ]
        },
        {
          "output_type": "stream",
          "name": "stderr",
          "text": [
            "/tmp/ipython-input-678974995.py:4: DeprecationWarning: DataFrameGroupBy.apply operated on the grouping columns. This behavior is deprecated, and in a future version of pandas the grouping columns will be excluded from the operation. Either pass `include_groups=False` to exclude the groupings or explicitly select the grouping columns after groupby to silence this warning.\n",
            "  .apply(lambda g: g['Price'].corr(g['EPS']))\n",
            "/tmp/ipython-input-678974995.py:11: DeprecationWarning: DataFrameGroupBy.apply operated on the grouping columns. This behavior is deprecated, and in a future version of pandas the grouping columns will be excluded from the operation. Either pass `include_groups=False` to exclude the groupings or explicitly select the grouping columns after groupby to silence this warning.\n",
            "  .apply(lambda g: g['Price'].corr(g['NAV']))\n"
          ]
        }
      ]
    },
    {
      "cell_type": "code",
      "source": [
        "df['Efficient(EPS)'] = np.where(df['Price Vs EPS Correlation'] > 0, 'Yes', 'No')\n",
        "df['Efficient(NAV)'] = np.where(df['Price Vs NAV Correlation'] > 0, 'Yes', 'No')\n",
        "\n",
        "print(df[['Name','Price','EPS','NAV','Price Vs EPS Correlation','Price Vs NAV Correlation','Efficient(EPS)','Efficient(NAV)']].head())"
      ],
      "metadata": {
        "colab": {
          "base_uri": "https://localhost:8080/"
        },
        "id": "JGpMP6-vbNZ_",
        "outputId": "6550dfcb-0ebd-47d2-9931-8f8a04f0e034"
      },
      "execution_count": 127,
      "outputs": [
        {
          "output_type": "stream",
          "name": "stdout",
          "text": [
            "                      Name      Price     EPS      NAV  \\\n",
            "0  AAMRA TECHNOLOGIES LTD.  21.739130 -0.1200  21.7300   \n",
            "1  AAMRA TECHNOLOGIES LTD.  36.764706  0.7000  22.8500   \n",
            "2  AAMRA TECHNOLOGIES LTD.  30.989011  1.6732  22.6446   \n",
            "3  AAMRA TECHNOLOGIES LTD.  24.869110  1.3775  22.7335   \n",
            "4  AAMRA TECHNOLOGIES LTD.  22.988506  1.4600  23.4800   \n",
            "\n",
            "   Price Vs EPS Correlation  Price Vs NAV Correlation Efficient(EPS)  \\\n",
            "0                  0.160135                  0.200989            Yes   \n",
            "1                  0.160135                  0.200989            Yes   \n",
            "2                  0.160135                  0.200989            Yes   \n",
            "3                  0.160135                  0.200989            Yes   \n",
            "4                  0.160135                  0.200989            Yes   \n",
            "\n",
            "  Efficient(NAV)  \n",
            "0            Yes  \n",
            "1            Yes  \n",
            "2            Yes  \n",
            "3            Yes  \n",
            "4            Yes  \n"
          ]
        }
      ]
    },
    {
      "cell_type": "code",
      "source": [
        "df.to_csv('Efficient_Pricing.csv')\n",
        "files.download('Efficient_Pricing.csv')"
      ],
      "metadata": {
        "colab": {
          "base_uri": "https://localhost:8080/",
          "height": 17
        },
        "id": "ca-awEWhjVSS",
        "outputId": "144e26b5-4ea0-4a23-ac1f-dfced1908a75"
      },
      "execution_count": 128,
      "outputs": [
        {
          "output_type": "display_data",
          "data": {
            "text/plain": [
              "<IPython.core.display.Javascript object>"
            ],
            "application/javascript": [
              "\n",
              "    async function download(id, filename, size) {\n",
              "      if (!google.colab.kernel.accessAllowed) {\n",
              "        return;\n",
              "      }\n",
              "      const div = document.createElement('div');\n",
              "      const label = document.createElement('label');\n",
              "      label.textContent = `Downloading \"${filename}\": `;\n",
              "      div.appendChild(label);\n",
              "      const progress = document.createElement('progress');\n",
              "      progress.max = size;\n",
              "      div.appendChild(progress);\n",
              "      document.body.appendChild(div);\n",
              "\n",
              "      const buffers = [];\n",
              "      let downloaded = 0;\n",
              "\n",
              "      const channel = await google.colab.kernel.comms.open(id);\n",
              "      // Send a message to notify the kernel that we're ready.\n",
              "      channel.send({})\n",
              "\n",
              "      for await (const message of channel.messages) {\n",
              "        // Send a message to notify the kernel that we're ready.\n",
              "        channel.send({})\n",
              "        if (message.buffers) {\n",
              "          for (const buffer of message.buffers) {\n",
              "            buffers.push(buffer);\n",
              "            downloaded += buffer.byteLength;\n",
              "            progress.value = downloaded;\n",
              "          }\n",
              "        }\n",
              "      }\n",
              "      const blob = new Blob(buffers, {type: 'application/binary'});\n",
              "      const a = document.createElement('a');\n",
              "      a.href = window.URL.createObjectURL(blob);\n",
              "      a.download = filename;\n",
              "      div.appendChild(a);\n",
              "      a.click();\n",
              "      div.remove();\n",
              "    }\n",
              "  "
            ]
          },
          "metadata": {}
        },
        {
          "output_type": "display_data",
          "data": {
            "text/plain": [
              "<IPython.core.display.Javascript object>"
            ],
            "application/javascript": [
              "download(\"download_f227429e-9cd1-4e6b-a2d0-e983d2ead2e7\", \"Efficient_Pricing.csv\", 106224)"
            ]
          },
          "metadata": {}
        }
      ]
    },
    {
      "cell_type": "code",
      "source": [
        "# Efficient Based on EPS\n",
        "efficient_eps_count = len(df[df['Efficient(EPS)'] == 'Yes'])\n",
        "efficicent_eps = (efficient_eps_count / len(df)) * 100\n",
        "inefficicent_eps = 100 - efficicent_eps\n",
        "\n",
        "# Efficient Based on NAV\n",
        "efficient_nav_count = len(df[df['Efficient(NAV)'] == 'Yes'])\n",
        "efficicent_nav = (efficient_nav_count / len(df)) * 100\n",
        "inefficicent_nav = 100 - efficicent_nav\n",
        "\n",
        "print(f\"Efficient EPS: {efficicent_eps:.2f}% | Inefficient EPS: {inefficicent_eps:.2f}%\")\n",
        "print(f\"Efficient NAV: {efficicent_nav:.2f}% | Inefficient NAV: {inefficicent_nav:.2f}%\")\n",
        "\n"
      ],
      "metadata": {
        "colab": {
          "base_uri": "https://localhost:8080/"
        },
        "id": "-_jYXNJaedXR",
        "outputId": "a1df1d3f-7feb-4495-c075-f369db5ce5e6"
      },
      "execution_count": 129,
      "outputs": [
        {
          "output_type": "stream",
          "name": "stdout",
          "text": [
            "Efficient EPS: 82.81% | Inefficient EPS: 17.19%\n",
            "Efficient NAV: 66.41% | Inefficient NAV: 33.59%\n"
          ]
        }
      ]
    },
    {
      "cell_type": "code",
      "source": [
        "# pie chart\n",
        "\n",
        "eps_labels = ['Efficient', 'Inefficient']\n",
        "eps_sizes = [efficicent_eps, inefficicent_eps]\n",
        "eps_colors = ['teal', 'black']\n",
        "\n",
        "nav_labels = ['Efficient', 'Inefficient']\n",
        "nav_sizes = [efficicent_nav, inefficicent_nav]\n",
        "nav_colors =['teal', 'black']\n",
        "\n",
        "# Plotting\n",
        "fig, axes = plt.subplots(1, 2, figsize=(12, 6))\n",
        "\n",
        "# EPS\n",
        "axes[0].pie(eps_sizes, labels=eps_labels, autopct='%1.1f%%', startangle=90, colors=eps_colors)\n",
        "axes[0].set_title('Efficiency Based on EPS')\n",
        "\n",
        "# NAV\n",
        "axes[1].pie(nav_sizes, labels=nav_labels, autopct='%1.1f%%', startangle=90, colors=nav_colors)\n",
        "axes[1].set_title('Efficiency Based on NAV')\n",
        "\n",
        "plt.show()\n"
      ],
      "metadata": {
        "colab": {
          "base_uri": "https://localhost:8080/",
          "height": 482
        },
        "id": "tTp9QoL6vJP6",
        "outputId": "6886ad56-53a3-417b-a958-6235b34b13f8"
      },
      "execution_count": 134,
      "outputs": [
        {
          "output_type": "display_data",
          "data": {
            "text/plain": [
              "<Figure size 1200x600 with 2 Axes>"
            ],
            "image/png": "[encoded data removed]"
          },
          "metadata": {}
        }
      ]
    },
    {
      "cell_type": "markdown",
      "source": [
        "Result Aanalysis:\n",
        "The result shows that according to EPS 83% of the market is efficiently priced, that is increase in earnning is reflected through an increase in price of the share. Same study run through NAV shows a 66% correlation, the lower correlation in NAV can be explained by the fact that increase in valuation of land or  immovable assets of such does not always result in increased productivity of the company. Hence, price change due to NAV would reflect a stronger correlation only in longer time frames.However, the market still suggests a 17% inefficient pricing of securities, which leaves room  for some short term trading gains."
      ],
      "metadata": {
        "id": "-okfqYTGgK93"
      }
    }
  ]
}